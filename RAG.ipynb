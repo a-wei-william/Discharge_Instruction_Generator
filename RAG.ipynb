{
 "cells": [
  {
   "cell_type": "markdown",
   "id": "fa6c287f-3b06-4b73-8b54-87a893580a60",
   "metadata": {},
   "source": [
    "# Setup"
   ]
  },
  {
   "cell_type": "code",
   "execution_count": 1,
   "id": "aaac6de6-2ef6-4586-9184-8d93a3990363",
   "metadata": {},
   "outputs": [],
   "source": [
    "from operator import itemgetter\n",
    "from _global import path_to_resources, hf_embed\n",
    "import templates\n",
    "from langchain_community.vectorstores import Chroma\n",
    "from langchain_openai import ChatOpenAI\n",
    "from langchain_community.llms import Ollama\n",
    "from langchain_core.prompts import ChatPromptTemplate, PromptTemplate\n",
    "from langchain_core.output_parsers.string import StrOutputParser\n",
    "from langchain_core.runnables import RunnablePassthrough, RunnableParallel\n",
    "import langsmith\n",
    "from langsmith import traceable, trace\n",
    "from langsmith.evaluation import LangChainStringEvaluator, evaluate\n",
    "from langchain.callbacks.tracers import LangChainTracer"
   ]
  },
  {
   "cell_type": "code",
   "execution_count": 2,
   "id": "ca634257-130b-4d4b-8f7f-0e8425dd5d4c",
   "metadata": {},
   "outputs": [],
   "source": [
    "# set up retriever\n",
    "db = Chroma(collection_name=\"main_collection\", persist_directory=f\"{path_to_resources}/db_wiki\", embedding_function=hf_embed)\n",
    "retriever = db.as_retriever(\n",
    "                search_type = \"similarity\",\n",
    "                search_kwargs = {\"k\":4},\n",
    "            )"
   ]
  },
  {
   "cell_type": "code",
   "execution_count": 3,
   "id": "b6392a02-2836-4da9-b7c1-8c4193b6952f",
   "metadata": {},
   "outputs": [],
   "source": [
    "# langsmith setup\n",
    "project_name = \"ED-handout\""
   ]
  },
  {
   "cell_type": "markdown",
   "id": "9732bba5-125c-43c1-94b3-5f35c6158a0f",
   "metadata": {},
   "source": [
    "# RAG Class"
   ]
  },
  {
   "cell_type": "code",
   "execution_count": 24,
   "id": "b228d657-be08-4d01-94af-fa08b78d3bd2",
   "metadata": {},
   "outputs": [],
   "source": [
    "class RagBot:\n",
    "    def __init__(self, retriever, templates, model: str = \"gpt-3.5-turbo-1106\"):\n",
    "        self._retriever = retriever\n",
    "        self._llm_gpt = ChatOpenAI(model_name=model, temperature=0)\n",
    "        self._llm_llama = Ollama(model=\"llama2:13b\", temperature=0)\n",
    "        self.templates = templates\n",
    "        self.queries = {\n",
    "            \"definition\": \"definition of {diagnosis}\",\n",
    "            \"presentation\": \"manifestations of {diagnosis}\",\n",
    "            \"course\": \"natural history of {diagnosis}\",\n",
    "            \"management\": \"treatment and management for {diagnosis}\",\n",
    "            \"follow_up\": \"follow-up plan for {diagnosis}\",\n",
    "            \"redflags\": \"signs and symptoms that indicate the need for urgent medical attention for patients with {diagnosis}\",\n",
    "        }\n",
    "\n",
    "    \n",
    "    @traceable\n",
    "    def diagnosis_extraction(self, assessment):\n",
    "        \"\"\"Extracts diagnosis from physician's assessment of the patient\"\"\"\n",
    "        prompt_extract_diagnosis = ChatPromptTemplate.from_messages([\n",
    "            (\"system\",self.templates.extract_diagnosis_system),\n",
    "            (\"human\", \"{assessment}\")\n",
    "        ])\n",
    "        chain_diagnosis = prompt_extract_diagnosis | self._llm_gpt\n",
    "        \n",
    "        return chain_diagnosis.invoke({\"assessment\":assessment}).content\n",
    "\n",
    "    \n",
    "    def make_queries(self, diagnosis):\n",
    "        \"\"\"Uses the diagnosis to populate dict of queries that will be used to retreive context from db\"\"\"\n",
    "        return {key: value.format(diagnosis=diagnosis) for key, value in self.queries.items()}\n",
    "\n",
    "    \n",
    "    @traceable(run_type=\"retriever\")\n",
    "    def _retrieve_docs(self, query):\n",
    "        return self._retriever.invoke(query)\n",
    "\n",
    "    \n",
    "    def get_contexts(self, queries):\n",
    "        \"\"\"returns a tuple with (query, contexts)\"\"\"\n",
    "        contexts = {}\n",
    "        for k, query in queries.items():\n",
    "            contexts[k] = (query, self._retrieve_docs(query))\n",
    "        \n",
    "        return contexts\n",
    "\n",
    "\n",
    "    def compress_contexts(self, q_c):\n",
    "        prompt_compress = ChatPromptTemplate.from_messages([\n",
    "            (\"system\", self.templates.compress_context_system),\n",
    "            (\"human\", self.templates.compress_context_human)\n",
    "        ])\n",
    "        chain_compress = prompt_compress | self._llm_gpt\n",
    "\n",
    "        return chain_compress.invoke({\"query\": q_c[0], \"context\": q_c[1]}).content\n",
    "\n",
    "    \n",
    "    @traceable()\n",
    "    def retrieval_steps(self, assessment):\n",
    "        \"\"\"All the steps to prep the contexts for final handout generation\"\"\"    \n",
    "        diagnosis = self.diagnosis_extraction(assessment)\n",
    "        queries = self.make_queries(diagnosis)\n",
    "        contexts = self.get_contexts(queries)\n",
    "\n",
    "        return {\"contexts\": contexts, \"diagnosis\": diagnosis}\n",
    "        \n",
    "    \n",
    "    @traceable()\n",
    "    def make_handout(self, assessment, md_plan):\n",
    "        _run_input = self.retrieval_steps(assessment)\n",
    "        _contexts = _run_input[\"contexts\"]\n",
    "        diagnosis = _run_input[\"diagnosis\"]\n",
    "\n",
    "        # compression\n",
    "        contexts = {}\n",
    "        for k, q_c in _contexts.items():\n",
    "            contexts[k] = self.compress_contexts(q_c)\n",
    "\n",
    "        # make handout\n",
    "        prompt_make_handout = ChatPromptTemplate.from_messages([\n",
    "            (\"system\",self.templates.handout_generation_system),\n",
    "            (\"human\", self.templates.handout_generation_human),\n",
    "        ])\n",
    "        chain_make_handout = prompt_make_handout | self._llm_gpt\n",
    "        response = chain_make_handout.invoke({\n",
    "            \"context_definition\": contexts[\"definition\"],\n",
    "            \"context_presentation\": contexts[\"presentation\"],\n",
    "            \"context_course\": contexts[\"course\"],\n",
    "            \"context_management\": contexts[\"management\"],\n",
    "            \"context_follow_up\": contexts[\"follow_up\"],\n",
    "            \"context_redflags\": contexts[\"redflags\"],\n",
    "            \"context_md_plan\": md_plan,\n",
    "        })\n",
    "        \n",
    "        # Evaluators will expect \"answer\" and \"contexts\"\n",
    "        return {\n",
    "            \"diagnosis\": diagnosis,\n",
    "            \"contexts\": \"\\n\".join(contexts.values()) + \"\\n\" + md_plan,\n",
    "            \"handout\": response.content,\n",
    "        }\n",
    "\n"
   ]
  },
  {
   "cell_type": "code",
   "execution_count": 26,
   "id": "a0f810ed-9511-4576-b64d-67b34f25a759",
   "metadata": {},
   "outputs": [],
   "source": [
    "bot = RagBot(retriever, templates)"
   ]
  },
  {
   "cell_type": "code",
   "execution_count": 9,
   "id": "ffc37dd4-127c-4c5f-96db-89c1e8b85b83",
   "metadata": {},
   "outputs": [],
   "source": [
    "# test that extraction works and works with langsmith\n",
    "\n",
    "with trace(\"Diagnosis extraction\", \"chain\", project_name=project_name, inputs={\"assessment\": \"5yo M with viral-triggered asthma\"}) as rt:\n",
    "    output = bot.diagnosis_extraction(inputs[\"assessment\"])\n",
    "    rt.end(outputs={\"output\": output})"
   ]
  },
  {
   "cell_type": "code",
   "execution_count": 36,
   "id": "3829b5a1-82c9-4d7a-81eb-765823dda5b3",
   "metadata": {},
   "outputs": [],
   "source": [
    "# need to wrap the bot so it can be used with langsmith evaluate()\n",
    "def make_handout_with_context(rag_bot):\n",
    "    def _make_handout_with_context(example: dict):\n",
    "        \"\"\"Use this for evaluation of retrieved documents and hallucinations\"\"\"\n",
    "        response = rag_bot.make_handout(example[\"assessment\"], example[\"plan\"])\n",
    "        print(response)\n",
    "        return {\"handout\": response[\"handout\"], \"contexts\": response[\"contexts\"]}\n",
    "\n",
    "    return _make_handout_with_context"
   ]
  },
  {
   "cell_type": "markdown",
   "id": "7c55ef3f-50cd-4157-8f41-dac745b4cbde",
   "metadata": {},
   "source": [
    "# Eval"
   ]
  },
  {
   "cell_type": "markdown",
   "id": "0481bf51-268e-4417-adf2-c1ae7bc42c06",
   "metadata": {},
   "source": [
    "## Doc grader"
   ]
  },
  {
   "cell_type": "code",
   "execution_count": 10,
   "id": "6887816a-7680-4cef-b0e5-a9fe19d2d267",
   "metadata": {},
   "outputs": [],
   "source": [
    "### OpenAI Grader\n",
    "\n",
    "from langchain_openai import ChatOpenAI\n",
    "from langchain_core.prompts import ChatPromptTemplate\n",
    "from langchain_core.pydantic_v1 import BaseModel, Field\n",
    "\n",
    "# Data model\n",
    "class GradeDocuments(BaseModel):\n",
    "    \"\"\"0-2 score based on relevance of doc.\"\"\"\n",
    "\n",
    "    score: str = Field(description=\"Documents grade based on correct diagnosis and relevant information\")\n",
    "\n",
    "# LLM with function call \n",
    "llm = ChatOpenAI(model=\"gpt-3.5-turbo-0125\", temperature=0)\n",
    "structured_llm_grader = llm.with_structured_output(GradeDocuments)\n",
    "\n",
    "# Prompt \n",
    "system = \"\"\"\n",
    "    You are a grader assessing relevance of a retrieved document to a user question. \\n \n",
    "    The content of the document can be found in page_content. Give a score for the document using the scoring system below. \n",
    "    Scoring: \n",
    "    * 0: irrelevant diagnosis \\n\n",
    "    * 1: correct diagnosis, but does not contain information to anser the user question \\n\n",
    "    * 2: correct diagnosis and contains information to answer the user question). \\n\n",
    "    \n",
    "    \n",
    "\"\"\"\n",
    "prompt_gradedoc = ChatPromptTemplate.from_messages(\n",
    "    [\n",
    "        (\"system\", system),\n",
    "        (\"human\", \"RETRIEVED DOCUMENT: \\n\\n {document} \\n\\n USER QUESTION: {query}\"),\n",
    "    ]\n",
    ")\n",
    "\n",
    "retrieval_grader = prompt_gradedoc | structured_llm_grader\n",
    "\n",
    "def grade_docs(inputs: dict) -> dict:\n",
    "    # Returns pydantic object\n",
    "    grade = retrieval_grader.invoke({\"query\": inputs[\"query\"], \"document\": inputs[\"context\"]})\n",
    "    return {\"grade\":grade.score}\n"
   ]
  },
  {
   "cell_type": "markdown",
   "id": "8b7769c3-2cc1-4bc9-96a6-078442e079c6",
   "metadata": {},
   "source": [
    "- given a diagnosis\n",
    "- create dataset of query + doc for each doc retrieved from each query\n",
    "- run experiement on the dataset"
   ]
  },
  {
   "cell_type": "code",
   "execution_count": 21,
   "id": "479b7eb9-786a-4d54-b30f-b624f7cf5e9a",
   "metadata": {},
   "outputs": [],
   "source": [
    "def create_dataset_relevance(diagnosis, context_dict, dataset_name):\n",
    "    \"\"\"Takes query_context dictionary and create a dataset for {diagnosis} to evaluate the relevance of retrieved context\"\"\"\n",
    "    client = langsmith.Client()\n",
    "    \n",
    "    dataset = client.create_dataset(\n",
    "        dataset_name=dataset_name,\n",
    "        description=f\"Test context relevance for docs retreiived for {diagnosis}\",\n",
    "    )\n",
    "\n",
    "    for query, q_c in context_dict.values(): #each document should be an example in the dataset        \n",
    "        for doc in q_c:\n",
    "            client.create_examples(\n",
    "                inputs=[{\"query\": query, \"context\": doc}],\n",
    "                dataset_id=dataset.id,\n",
    "            )"
   ]
  },
  {
   "cell_type": "code",
   "execution_count": 22,
   "id": "f2d24128-e746-48bd-8ec9-e3e730a23097",
   "metadata": {},
   "outputs": [],
   "source": [
    "def context_relevance(rag_bot, assessment):\n",
    "    retrieved = rag_bot.retrieval_steps(assessment) # dict of query:context\n",
    "    context_dict = retrieved[\"contexts\"]\n",
    "    diagnosis = retrieved[\"diagnosis\"]\n",
    "\n",
    "    dataset_name = f\"Queries_Docs_{diagnosis}\"\n",
    "    create_dataset_relevance(diagnosis, context_dict, dataset_name)\n",
    "        \n",
    "    evaluate(\n",
    "        grade_docs,\n",
    "        data=dataset_name,\n",
    "        #summary_evaluators=[f1_score_summary_evaluator],\n",
    "        experiment_prefix=\"Context-relevance-\",\n",
    "        # Any experiment metadata can be specified here\n",
    "        metadata={\n",
    "            \"model\": \"oai\",\n",
    "            \"diagnosis\":diagnosis\n",
    "        },\n",
    "    )"
   ]
  },
  {
   "cell_type": "code",
   "execution_count": 23,
   "id": "c33348ea-1008-4e52-a7fb-6d4ff9882bcf",
   "metadata": {},
   "outputs": [
    {
     "name": "stdout",
     "output_type": "stream",
     "text": [
      "View the evaluation results for experiment: 'Context-relevance--d321b186' at:\n",
      "https://smith.langchain.com/o/edfbc8bb-c3a3-5c1e-8b48-11b5a8cfd8ac/datasets/2c62c230-5ffb-4be1-a160-67b532c3d537/compare?selectedSessions=4a781120-8ba7-45ee-ac5f-031e0c2ddd8d\n",
      "\n",
      "\n"
     ]
    },
    {
     "data": {
      "application/vnd.jupyter.widget-view+json": {
       "model_id": "87c700faa3b14924b63e99d989060f74",
       "version_major": 2,
       "version_minor": 0
      },
      "text/plain": [
       "0it [00:00, ?it/s]"
      ]
     },
     "metadata": {},
     "output_type": "display_data"
    }
   ],
   "source": [
    "context_relevance(bot, \"5yo M, viral triggered asthma\")"
   ]
  },
  {
   "cell_type": "markdown",
   "id": "feffa5be-acaa-4a9e-bb05-456b47c18b9b",
   "metadata": {},
   "source": [
    "## Ground truth checker"
   ]
  },
  {
   "cell_type": "code",
   "execution_count": 56,
   "id": "c2a8f8bc-5f7e-49a6-a636-598a2694ecdb",
   "metadata": {},
   "outputs": [],
   "source": [
    "from langchain_openai import ChatOpenAI\n",
    "from langchain_core.prompts import ChatPromptTemplate\n",
    "from langchain_core.pydantic_v1 import BaseModel, Field\n",
    "from typing import List\n",
    "\n",
    "# Data model\n",
    "class GroundTruth(BaseModel):\n",
    "    \"\"\"List facts in handout not based on ground truth\"\"\"\n",
    "    list_of_false: List[str] = Field(description=\"List of facts in handout not based on ground truth\")\n",
    "\n",
    "# LLM with function call \n",
    "llm = ChatOpenAI(model=\"gpt-3.5-turbo-0125\", temperature=0)\n",
    "structured_llm_grader = llm.with_structured_output(GroundTruth)\n",
    "\n",
    "# Prompt \n",
    "system = \"\"\"\n",
    "    You are a assessor assessing whether the generated text is based on the context provided. \n",
    "    You will note down each sentence in the handout that is not based on the context provided.\n",
    "    Output the list of sentences.\n",
    "    \n",
    "\"\"\"\n",
    "\n",
    "prompt_groundtruth = ChatPromptTemplate.from_messages(\n",
    "    [\n",
    "        (\"system\", system),\n",
    "        (\"human\", \"GENERATED TEXT: \\n\\n {handout} \\n\\n CONTEXT: \\n\\n {contexts}\"),\n",
    "    ]\n",
    ")\n",
    "\n",
    "grader_groundtruth = prompt_groundtruth | structured_llm_grader\n",
    "\n",
    "def grade_groundtruth(inputs: dict) -> dict:\n",
    "    result = grader_groundtruth.invoke({\"handout\": inputs[\"handout\"], \"contexts\": inputs[\"contexts\"]}).list_of_false\n",
    "    voun = len(result)\n",
    "    \n",
    "    return {\"count\":voun, \"list\":result}\n"
   ]
  },
  {
   "cell_type": "code",
   "execution_count": 57,
   "id": "6b4ec3cb-0292-4f9b-98a7-61f7713650e5",
   "metadata": {},
   "outputs": [],
   "source": [
    "def create_dataset_groundtruth(handout, context, dataset_name):\n",
    "    \"\"\"Takes handout and contexts used to make a dataset\"\"\"\n",
    "    client = langsmith.Client()\n",
    "    \n",
    "    dataset = client.create_dataset(\n",
    "        dataset_name=dataset_name,\n",
    "        description=f\"Test whether handout for {diagnosis} is based on provided context\",\n",
    "    )\n",
    "\n",
    "    # **Preprocess context to remove headings\n",
    "    client.create_examples(\n",
    "        inputs=[{\"handout\": handout, \"contexts\": contexts}],\n",
    "        dataset_id=dataset.id,\n",
    "    )"
   ]
  },
  {
   "cell_type": "code",
   "execution_count": 58,
   "id": "a281f1ae-a83f-4f24-86f1-7c3c57a3e026",
   "metadata": {},
   "outputs": [],
   "source": [
    "\n",
    "def context_groundtruth(rag_bot, assessment, md_plan):\n",
    "    \"\"\"\n",
    "    retrieved = rag_bot.retrieval_steps(assessment) # dict of query:context\n",
    "    context_dict = retrieved[\"contexts\"]\n",
    "    diagnosis = retrieved[\"diagnosis\"]\n",
    "    \"\"\"\n",
    "    #outputs = rag_bot.make_handout(assessment, md_plan)\n",
    "    #dataset_name = f\"Groundtruth_{diagnosis}\"\n",
    "    #create_dataset_relevance(diagnosis, context_dict, dataset_name=f\"Queries_Docs_{diagnosis}\") # also makes a dataset for retrieval relevance but not evaluate on it\n",
    "    #create_dataset_groundtruth(outputs[\"handout\"], outputs[\"contexts\"], dataset_name)\n",
    "\n",
    "\n",
    "    # tmp\n",
    "    dataset_name = \"Context_groundtruth\"\n",
    "        \n",
    "    evaluate(\n",
    "        grade_groundtruth,\n",
    "        data=dataset_name,\n",
    "        #summary_evaluators=[f1_score_summary_evaluator],\n",
    "        experiment_prefix=\"Groundtruth-\",\n",
    "        # Any experiment metadata can be specified here\n",
    "        metadata={\n",
    "            \"model\": \"oai\",\n",
    "            \"diagnosis\":\"tmp\"\n",
    "        },\n",
    "    )"
   ]
  },
  {
   "cell_type": "code",
   "execution_count": 59,
   "id": "f83d873d-af74-49f6-adb3-cd517015feb6",
   "metadata": {},
   "outputs": [
    {
     "name": "stdout",
     "output_type": "stream",
     "text": [
      "View the evaluation results for experiment: 'Groundtruth--d17fd1f2' at:\n",
      "https://smith.langchain.com/o/edfbc8bb-c3a3-5c1e-8b48-11b5a8cfd8ac/datasets/8c0209e9-1fa7-4eae-9ee6-657491c07e75/compare?selectedSessions=8a012549-28bb-462b-bb0c-5aab3ee406fb\n",
      "\n",
      "\n"
     ]
    },
    {
     "data": {
      "application/vnd.jupyter.widget-view+json": {
       "model_id": "656daabed7944528bd539dba35ee1125",
       "version_major": 2,
       "version_minor": 0
      },
      "text/plain": [
       "0it [00:00, ?it/s]"
      ]
     },
     "metadata": {},
     "output_type": "display_data"
    }
   ],
   "source": [
    "context_groundtruth(bot, None, None)"
   ]
  },
  {
   "cell_type": "markdown",
   "id": "f6fc3492-d5e1-426e-9428-01d2083cd48e",
   "metadata": {},
   "source": [
    "## LLM grading based on custom metrics\n",
    "- jargon\n",
    "- reference list\n",
    "- template format"
   ]
  },
  {
   "cell_type": "code",
   "execution_count": 29,
   "id": "2a438330-7ffe-4aa6-88ec-16b51f1255cf",
   "metadata": {},
   "outputs": [],
   "source": [
    "from langsmith.evaluation import LangChainStringEvaluator, evaluate\n",
    "\n",
    "answer_hallucination_evaluator = LangChainStringEvaluator(\n",
    "    \"labeled_score_string\",\n",
    "    config={\n",
    "        \"criteria\": {\n",
    "            \"accuracy\": \"\"\"Is the Assistant's Answer grounded in the Ground Truth documentation? A score of [[1]] means that the\n",
    "            Assistant answer contains is not at all based upon / grounded in the Groun Truth documentation. A score of [[5]] means \n",
    "            that the Assistant answer contains some information (e.g., a hallucination) that is not captured in the Ground Truth \n",
    "            documentation. A score of [[10]] means that the Assistant answer is fully based upon the in the Ground Truth documentation.\"\"\"\n",
    "        },\n",
    "        # If you want the score to be saved on a scale from 0 to 1\n",
    "        \"normalize_by\": 10,\n",
    "    },\n",
    "    prepare_data=lambda run, example: {\n",
    "        \"prediction\": run.outputs[\"handout\"],\n",
    "        \"reference\": run.outputs[\"contexts\"],\n",
    "        \"input\": example.inputs,\n",
    "    },\n",
    ")\n"
   ]
  },
  {
   "cell_type": "code",
   "execution_count": 37,
   "id": "f53ab39c-01f1-47d6-9ee7-59b687f2c216",
   "metadata": {},
   "outputs": [
    {
     "name": "stdout",
     "output_type": "stream",
     "text": [
      "View the evaluation results for experiment: 'ground-truth-checker-f7dc8df7' at:\n",
      "https://smith.langchain.com/o/edfbc8bb-c3a3-5c1e-8b48-11b5a8cfd8ac/datasets/e3957f7c-e232-4541-beef-d7216ab12241/compare?selectedSessions=839364cd-0dbf-484b-b623-022c6de7287d\n",
      "\n",
      "\n"
     ]
    },
    {
     "data": {
      "application/vnd.jupyter.widget-view+json": {
       "model_id": "d397047ba89443598419f3b088f21397",
       "version_major": 2,
       "version_minor": 0
      },
      "text/plain": [
       "0it [00:00, ?it/s]"
      ]
     },
     "metadata": {},
     "output_type": "display_data"
    },
    {
     "name": "stdout",
     "output_type": "stream",
     "text": [
      "{'diagnosis': 'Asthma exacerbation', 'contexts': '\\n    ### OUTPUT ###\\n    Doc: 1\\n    Context: An acute asthma exacerbation is commonly referred to as an asthma attack. The classic symptoms are shortness of breath, wheezing, and chest tightness. The wheezing is most often when breathing out. While these are the primary symptoms of asthma, some people present primarily with coughing, and in severe cases, air motion may be significantly impaired such that no wheezing is heard. In children, chest pain is often present. Signs occurring during an asthma attack include the use of accessory muscles of respiration (sternocleidomastoid and scalene muscles of the neck), there may be a paradoxical pulse (a pulse that is weaker during inhalation and stronger during exhalation), and over-inflation of the chest. A blue color of the skin and nails may occur from lack of oxygen. In a mild exacerbation the peak expiratory flow rate (PEFR) is ≥200 L/min, or ≥50% of the predicted best. Moderate is defined as between 80 and 200 L/min, or 25% and 50% of the predicted best, while severe is defined as ≤ 80 L/min, or ≤25% of the predicted best. Acute severe asthma, previously known as status asthmaticus, is an acute exacerbation of asthma that does not respond to standard treatments of bronchodilators and corticosteroids.\\n    Source: https://en.wikipedia.org/wiki/Asthma\\n\\n    Doc: 2\\n    Context: An exacerbation (attack) of asthma is experienced as a worsening of asthma symptoms with breathlessness and cough (often worse at night). In acute severe asthma, breathlessness may be so severe that it is impossible to speak more than a few words (inability to complete sentences). On examination, the respiratory rate may be elevated (more than 25 breaths per minute), and the heart rate may be rapid (110 beats per minute or faster). Reduced oxygen saturation levels (but above 92%) are often encountered. Examination of the lungs with a stethoscope may reveal reduced air entry and/or widespread wheeze. The peak expiratory flow can be measured at the bedside; in acute severe asthma, the flow is less than 50% of a person\\'s normal or predicted flow. Very severe acute asthma (termed \"near-fatal\" as there is an immediate risk to life) is characterized by a peak flow of less than 33% predicted, oxygen saturations below 92% or cyanosis (blue discoloration, usually of the lips), absence of audible breath sounds over the chest (\"silent chest\" : wheezing is not heard because there is not enough air movement to generate it), reduced respiratory effort and visible exhaustion or drowsiness. Irregularities in the heartbeat and abnormal lowering of the blood pressure may be observed. Severe asthma attack can cause symptoms such as: Shortness of breath, Inability to speak in full sentences, Feeling breathless even when lying down, Chest feels tight, Bluish tint to the lips, Hunched shoulders, and strained muscles in stomach and neck, Feeling the need to sit or stand up to breathe more easily.\\n    Source: https://en.wikipedia.org/wiki/Acute_severe_asthma\\n\\n    Doc: 3\\n    Context: Some individuals will have stable asthma for weeks or months and then suddenly develop an episode of acute asthma. Different individuals react to various factors in different ways. Most individuals can develop severe exacerbation from a number of triggering agents. Home factors that can lead to exacerbation of asthma include dust, animal dander (especially cat and dog hair), cockroach allergens and mold. Perfumes are a common cause of acute attacks in women and children. Both viral and bacterial infections of the upper respiratory tract can worsen the disease. Psychological stress may worsen symptoms – it is thought that stress alters the immune system and thus increases the airway inflammatory response to allergens and irritants. Asthma exacerbations in school‐aged children peak in autumn, shortly after children return to school. This might reflect a combination of factors, including poor treatment adherence, increased allergen and viral exposure, and altered immune tolerance. There is limited evidence to guide possible approaches to reducing autumn exacerbations, but while costly, seasonal omalizumab treatment from four to six weeks before school return may reduce autumn asthma exacerbations.\\n    Source: https://en.wikipedia.org/wiki/Asthma\\n\\n    ### OUTPUT ###\\n    Doc: 1\\n    Context: An acute asthma exacerbation is commonly referred to as an asthma attack. The classic symptoms are shortness of breath, wheezing, and chest tightness. The wheezing is most often when breathing out. While these are the primary symptoms of asthma, some people present primarily with coughing, and in severe cases, air motion may be significantly impaired such that no wheezing is heard. In children, chest pain is often present. Signs occurring during an asthma attack include the use of accessory muscles of respiration (sternocleidomastoid and scalene muscles of the neck), there may be a paradoxical pulse (a pulse that is weaker during inhalation and stronger during exhalation), and over-inflation of the chest. A blue color of the skin and nails may occur from lack of oxygen. In a mild exacerbation the peak expiratory flow rate (PEFR) is ≥200 L/min, or ≥50% of the predicted best. Moderate is defined as between 80 and 200 L/min, or 25% and 50% of the predicted best, while severe is defined as ≤ 80 L/min, or ≤25% of the predicted best. Acute severe asthma, previously known as status asthmaticus, is an acute exacerbation of asthma that does not respond to standard treatments of bronchodilators and corticosteroids. Half of cases are due to infections with others caused by allergen, air pollution, or insufficient or inappropriate medication use. Brittle asthma is a kind of asthma distinguishable by recurrent, severe attacks. Type 1 brittle asthma is a disease with wide peak flow variability, despite intense medication. Type 2 brittle asthma is background well-controlled asthma with sudden severe exacerbations.\\n    Source: https://en.wikipedia.org/wiki/Asthma\\n\\n    Doc: 2\\n    Context: An exacerbation (attack) of asthma is experienced as a worsening of asthma symptoms with breathlessness and cough (often worse at night). In acute severe asthma, breathlessness may be so severe that it is impossible to speak more than a few words (inability to complete sentences). On examination, the respiratory rate may be elevated (more than 25 breaths per minute), and the heart rate may be rapid (110 beats per minute or faster). Reduced oxygen saturation levels (but above 92%) are often encountered. Examination of the lungs with a stethoscope may reveal reduced air entry and/or widespread wheeze. The peak expiratory flow can be measured at the bedside; in acute severe asthma, the flow is less than 50% of a person\\'s normal or predicted flow. Very severe acute asthma (termed \"near-fatal\" as there is an immediate risk to life) is characterized by a peak flow of less than 33% predicted, oxygen saturations below 92% or cyanosis (blue discoloration, usually of the lips), absence of audible breath sounds over the chest (\"silent chest\" : wheezing is not heard because there is not enough air movement to generate it), reduced respiratory effort and visible exhaustion or drowsiness. Irregularities in the heartbeat and abnormal lowering of the blood pressure may be observed. Severe asthma attack can cause symptoms such as: * Shortness of breath * Inability to speak in full sentences * Feeling breathless even when lying down * Chest feels tight * Bluish tint to the lips * Hunched shoulders, and strained muscles in stomach and neck * Feeling the need to sit or stand up to breathe more easily\\n    Source: https://en.wikipedia.org/wiki/Acute_severe_asthma\\n\\n    Doc: 3\\n    Context: Some individuals will have stable asthma for weeks or months and then suddenly develop an episode of acute asthma. Different individuals react to various factors in different ways. Most individuals can develop severe exacerbation from a number of triggering agents. Home factors that can lead to exacerbation of asthma include dust, animal dander (especially cat and dog hair), cockroach allergens and mold. Perfumes are a common cause of acute attacks in women and children. Both viral and bacterial infections of the upper respiratory tract can worsen the disease. Psychological stress may worsen symptoms – it is thought that stress alters the immune system and thus increases the airway inflammatory response to allergens and irritants. Asthma exacerbations in school‐aged children peak in autumn, shortly after children return to school. This might reflect a combination of factors, including poor treatment adherence, increased allergen and viral exposure, and altered immune tolerance. There is limited evidence to guide possible approaches to reducing autumn exacerbations, but while costly, seasonal omalizumab treatment from four to six weeks before school return may reduce autumn asthma exacerbations.\\n    Source: https://en.wikipedia.org/wiki/Asthma\\n\\n    Doc: 4\\n    Context: Asthma is characterized by recurrent episodes of wheezing, shortness of breath, chest tightness, and coughing. Sputum may be produced from the lung by coughing but is often hard to bring up. During recovery from an asthma attack (exacerbation), it may appear pus-like due to high levels of white blood cells called eosinophils. Symptoms are usually worse at night and in the early morning or in response to exercise or cold air. Some people with asthma rarely experience symptoms, usually in response to triggers, whereas others may react frequently and readily and experience persistent symptoms.\\n    Source: https://en.wikipedia.org/wiki/Asthma\\n\\n    ### OUTPUT ###\\n    Doc: 1\\n    Context: Most individuals can develop severe exacerbation from a number of triggering agents. Home factors that can lead to exacerbation of asthma include dust, animal dander (especially cat and dog hair), cockroach allergens and mold. Perfumes are a common cause of acute attacks in women and children. Both viral and bacterial infections of the upper respiratory tract can worsen the disease. Psychological stress may worsen symptoms – it is thought that stress alters the immune system and thus increases the airway inflammatory response to allergens and irritants. Asthma exacerbations in school‐aged children peak in autumn, shortly after children return to school. This might reflect a combination of factors, including poor treatment adherence, increased allergen and viral exposure, and altered immune tolerance.\\n    Source: https://en.wikipedia.org/wiki/Asthma\\n\\n    Doc: 2\\n    Context: An acute asthma exacerbation is commonly referred to as an asthma attack. The classic symptoms are shortness of breath, wheezing, and chest tightness. Signs occurring during an asthma attack include the use of accessory muscles of respiration (sternocleidomastoid and scalene muscles of the neck), there may be a paradoxical pulse (a pulse that is weaker during inhalation and stronger during exhalation), and over-inflation of the chest. In a mild exacerbation the peak expiratory flow rate (PEFR) is ≥200 L/min, or ≥50% of the predicted best. Moderate is defined as between 80 and 200 L/min, or 25% and 50% of the predicted best, while severe is defined as ≤ 80 L/min, or ≤25% of the predicted best. Acute severe asthma, previously known as status asthmaticus, is an acute exacerbation of asthma that does not respond to standard treatments of bronchodilators and corticosteroids.\\n    Source: https://en.wikipedia.org/wiki/Asthma\\n\\n    Doc: 3\\n    Context: Asthma is a long-term inflammatory disease of the airways of the lungs. It is characterized by variable and recurring symptoms, reversible airflow obstruction, and easily triggered bronchospasms. Symptoms include episodes of wheezing, coughing, chest tightness, and shortness of breath. Asthma is thought to be caused by a combination of genetic and environmental factors. Environmental factors include exposure to air pollution and allergens. There is no known cure for asthma, but it can be controlled. Symptoms can be prevented by avoiding triggers, such as allergens and respiratory irritants, and suppressed with the use of inhaled corticosteroids.\\n    Source: https://en.wikipedia.org/wiki/Asthma\\n\\n    Doc: 4\\n    Context: An exacerbation (attack) of asthma is experienced as a worsening of asthma symptoms with breathlessness and cough (often worse at night). In acute severe asthma, breathlessness may be so severe that it is impossible to speak more than a few words (inability to complete sentences). On examination, the respiratory rate may be elevated (more than 25 breaths per minute), and the heart rate may be rapid (110 beats per minute or faster). Reduced oxygen saturation levels (but above 92%) are often encountered. Very severe acute asthma (termed \"near-fatal\" as there is an immediate risk to life) is characterized by a peak flow of less than 33% predicted, oxygen saturations below 92% or cyanosis (blue discoloration, usually of the lips), absence of audible breath sounds over the chest (\"silent chest\" : wheezing is not heard because there is not enough air movement to generate it), reduced respiratory effort and visible exhaustion or drowsiness. Severe asthma attack can cause symptoms such as shortness of breath, inability to speak in full sentences, feeling breathless even when lying down, chest feels tight, bluish tint to the lips, hunched shoulders, and strained muscles in stomach and neck, feeling the need to sit or stand up to breathe more easily.\\n    Source: https://en.wikipedia.org/wiki/Acute_severe_asthma\\n\\n    ### OUTPUT ###\\n    Doc: 1\\n    Context: Interventions include intravenous \\\\(IV\\\\) medications \\\\(e.g. magnesium sulfate\\\\), aerosolized medications to dilate the airways \\\\(bronchodilation\\\\) \\\\(e.g., albuterol or ipratropium bromide/salbutamol\\\\), and positive-pressure therapy, including mechanical ventilation. Multiple therapies may be used simultaneously to rapidly reverse the effects of status asthmaticus and reduce permanent damage of the airways. Intravenous corticosteroids and methylxanthines are often given. If the person with a severe asthma exacerbation is on a mechanical ventilator, certain sedating medications such as ketamine or propofol, have bronchodilating properties. According to a new randomized control trial ketamine and aminophylline are also effective in children with acute asthma who responds poorly to standard therapy.\\n    Source: https://en.wikipedia.org/wiki/Acute_severe_asthma\\n\\n    Doc: 2\\n    Context: Additional options for emergency management and prevention of flareups include humidified oxygen to alleviate hypoxia, corticosteroid by mouth, magnesium sulfate intravenous treatment, heliox, intravenous salbutamol, methylxanthines, bronchial thermoplasty, monoclonal antibody injections, sublingual immunotherapy, and non-invasive positive pressure ventilation in children.\\n    Source: https://en.wikipedia.org/wiki/Asthma\\n\\n    Doc: 3\\n    Context: Antibiotics are generally not needed for sudden worsening of symptoms or for treating asthma at any time.\\n    Source: https://en.wikipedia.org/wiki/Asthma\\n### OUTPUT ###\\nDoc: 1\\nContext: When asthma is unresponsive to usual medications, other options are available for both emergency management and prevention of flareups. Additional options include: \\n* Humidified oxygen to alleviate hypoxia if saturations fall below 92%.\\n* Corticosteroid by mouth are recommended with five days of prednisone being the same 2 days of dexamethasone. One review recommended a seven-day course of steroids.\\n* Magnesium sulfate intravenous treatment increases bronchodilation when used in addition to other treatment in moderate severe acute asthma attacks. In adults intravenous treatment results in a reduction of hospital admissions. Low levels of evidence suggest that inhaled (nebulised) magnesium sulfate may have a small benefit for treating acute asthma in adults. Overall, high quality evidence do not indicate a large benefit for combining magnesium sulfate with standard inhaled treatments for adults with asthma.\\n* Heliox, a mixture of helium and oxygen, may also be considered in severe unresponsive cases.\\n* Intravenous salbutamol is not supported by available evidence and is thus used only in extreme cases.\\n* Methylxanthines (such as theophylline) were once widely used, but do not add significantly to the effects of inhaled beta-agonists. Their use in acute exacerbations is controversial.\\n* The dissociative anesthetic ketamine is theoretically useful if intubation and mechanical ventilation is needed in people who are approaching respiratory arrest; however, there is no evidence from clinical trials to support this. A 2012 Cochrane review found no significant benefit from the use of ketamine in severe acute asthma in children.\\n* For those with severe persistent asthma not controlled by inhaled corticosteroids and LABAs, bronchial thermoplasty may be an option. It involves the delivery of controlled thermal energy to the airway wall during a series of bronchoscopies. While it may increase exacerbation frequency in the first few months it appears to decrease the subsequent rate. Effects beyond one year are unknown.\\n* Monoclonal antibody injections such as mepolizumab, dupilumab, or omalizumab may be useful in those with poorly controlled atopic asthma. However, as of 2019 these medications are expensive and their use is therefore reserved for those with severe symptoms to achieve cost-effectiveness. Monoclonal antibodies targeting interleukin-5 (IL-5) or its receptor (IL-5R), including mepolizumab, reslizumab or benralizumab, in addition to standard care in severe asthma is effective in reducing the rate of asthma exacerbations. There is limited evidence for improved health-related quality of life and lung function.\\n* Evidence suggests that sublingual immunotherapy in those with both allergic rhinitis and asthma improve outcomes.\\n* It is unclear if non-invasive positive pressure ventilation in children is of use as it has not been sufficiently studied.\\nSource: https://en.wikipedia.org/wiki/Asthma\\n\\nDoc: 2\\nContext: Staying with a treatment approach for preventing asthma exacerbations can be challenging, especially if the person is required to take medicine or treatments daily. Reasons for low adherence range from a conscious decision to not follow the suggested medical treatment regime for various reasons including avoiding potential side effects, misinformation, or other beliefs about the medication. Problems accessing the treatment and problems administering the treatment effectively can also result in lower adherence. Various approaches have been undertaken to try and improve adherence to treatments to help people prevent serious asthma exacerbations including digital interventions.\\nSource: https://en.wikipedia.org/wiki/Asthma\\n\\nDoc: 3\\nContext: Interventions include intravenous (IV) medications (e.g. magnesium sulfate), aerosolized medications to dilate the airways (bronchodilation) (e.g., albuterol or ipratropium bromide/salbutamol), and positive-pressure therapy, including mechanical ventilation. Multiple therapies may be used simultaneously to rapidly reverse the effects of status asthmaticus and reduce permanent damage of the airways. Intravenous corticosteroids and methylxanthines are often given. If the person with a severe asthma exacerbation is on a mechanical ventilator, certain sedating medications such as ketamine or propofol, have bronchodilating properties. According to a new randomized control trial ketamine and aminophylline are also effective in children with acute asthma who responds poorly to standard therapy.\\nSource: https://en.wikipedia.org/wiki/Acute_severe_asthma\\n\\n    ### OUTPUT ###\\n    Doc: 1\\n    Context: An exacerbation (attack) of asthma is experienced as a worsening of asthma symptoms with breathlessness and cough (often worse at night). In acute severe asthma, breathlessness may be so severe that it is impossible to speak more than a few words (inability to complete sentences). On examination, the respiratory rate may be elevated (more than 25 breaths per minute), and the heart rate may be rapid (110 beats per minute or faster). Reduced oxygen saturation levels (but above 92%) are often encountered. Examination of the lungs with a stethoscope may reveal reduced air entry and/or widespread wheeze. The peak expiratory flow can be measured at the bedside; in acute severe asthma, the flow is less than 50% of a person\\'s normal or predicted flow. Very severe acute asthma (termed \"near-fatal\" as there is an immediate risk to life) is characterized by a peak flow of less than 33% predicted, oxygen saturations below 92% or cyanosis (blue discoloration, usually of the lips), absence of audible breath sounds over the chest (\"silent chest\" : wheezing is not heard because there is not enough air movement to generate it), reduced respiratory effort and visible exhaustion or drowsiness. Irregularities in the heartbeat and abnormal lowering of the blood pressure may be observed. Severe asthma attack can cause symptoms such as: Shortness of breath, Inability to speak in full sentences, Feeling breathless even when lying down, Chest feels tight, Bluish tint to the lips, Hunched shoulders, and strained muscles in stomach and neck, Feeling the need to sit or stand up to breathe more easily.\\n    Source: https://en.wikipedia.org/wiki/Acute_severe_asthma\\n\\n    Doc: 2\\n    Context: An acute asthma exacerbation is commonly referred to as an asthma attack. The classic symptoms are shortness of breath, wheezing, and chest tightness. The wheezing is most often when breathing out. Signs occurring during an asthma attack include the use of accessory muscles of respiration (sternocleidomastoid and scalene muscles of the neck), there may be a paradoxical pulse (a pulse that is weaker during inhalation and stronger during exhalation), and over-inflation of the chest. A blue color of the skin and nails may occur from lack of oxygen. In a mild exacerbation the peak expiratory flow rate (PEFR) is ≥200 L/min, or ≥50% of the predicted best. Moderate is defined as between 80 and 200 L/min, or 25% and 50% of the predicted best, while severe is defined as ≤ 80 L/min, or ≤25% of the predicted best. Acute severe asthma, previously known as status asthmaticus, is an acute exacerbation of asthma that does not respond to standard treatments of bronchodilators and corticosteroids.\\n    Source: https://en.wikipedia.org/wiki/Asthma\\n\\n    Doc: 3\\n    Context: Acute severe asthma, also known as status asthmaticus, is an acute exacerbation of asthma that does not respond to standard treatments of bronchodilators (inhalers) and corticosteroids. Symptoms include chest tightness, rapidly progressive dyspnea (shortness of breath), dry cough, use of accessory respiratory muscles, fast and/or labored breathing, and extreme wheezing. It is a life-threatening episode of airway obstruction and is considered a medical emergency. Complications include cardiac and/or respiratory arrest.\\n    Source: https://en.wikipedia.org/wiki/Acute_severe_asthma\\n-continue ventolin q4h \\\\n -continue flovent 125mcg qdaily \\\\n -follow-up with your family doctor in 2 days', 'handout': 'Diagnosis: Acute Asthma Exacerbation\\n\\nAcute asthma exacerbation, also known as an asthma attack, is characterized by a sudden worsening of asthma symptoms. These symptoms include shortness of breath, wheezing, chest tightness, and coughing. In severe cases, the ability to breathe may be significantly impaired, and in children, chest pain is often present. Signs of an asthma attack include the use of accessory muscles of respiration, a paradoxical pulse, and over-inflation of the chest. A blue color of the skin and nails may occur from lack of oxygen. The severity of an asthma attack is categorized as mild, moderate, or severe based on the peak expiratory flow rate (PEFR).\\n\\nWhat you can do to help your child:\\nWhen asthma is unresponsive to usual medications, other options are available for both emergency management and prevention of flare-ups. Additional options include:\\n- Humidified oxygen to alleviate hypoxia if saturations fall below 92%.\\n- Corticosteroid by mouth for a recommended duration.\\n- Magnesium sulfate intravenous treatment to increase bronchodilation.\\n- Heliox, a mixture of helium and oxygen, may also be considered in severe unresponsive cases.\\n- Intravenous salbutamol is used only in extreme cases.\\n- Methylxanthines, such as theophylline, are controversial in acute exacerbations.\\n- Monoclonal antibody injections may be useful in those with poorly controlled atopic asthma.\\n- Sublingual immunotherapy may improve outcomes in those with both allergic rhinitis and asthma.\\n\\nWhen to seek urgent medical attention:\\nSeek urgent medical attention if your child experiences severe symptoms such as:\\n- Inability to speak in full sentences\\n- Bluish tint to the lips\\n- Visible exhaustion or drowsiness\\n- Irregularities in the heartbeat\\n- Reduced respiratory effort\\n- Feeling the need to sit or stand up to breathe more easily\\n\\nReferences:\\n- https://en.wikipedia.org/wiki/Asthma\\n- https://en.wikipedia.org/wiki/Acute_severe_asthma'}\n"
     ]
    }
   ],
   "source": [
    "dataset_name = \"Pt_cases\"\n",
    "experiment_results = evaluate(\n",
    "    make_handout_with_context(bot),\n",
    "    data=dataset_name,\n",
    "    evaluators=[answer_hallucination_evaluator],\n",
    "    experiment_prefix=\"ground-truth-checker\",\n",
    "    # Any experiment metadata can be specified here\n",
    "    metadata={\n",
    "        \"diagnosis\": dataset_name,\n",
    "    },\n",
    ")"
   ]
  },
  {
   "cell_type": "markdown",
   "id": "2f5a519e-40f6-4cfd-b9f9-27cf48252fa7",
   "metadata": {},
   "source": [
    "## Human feedback of output"
   ]
  },
  {
   "cell_type": "code",
   "execution_count": null,
   "id": "d593e441-f1d7-4521-96a2-ca060923a33d",
   "metadata": {},
   "outputs": [],
   "source": []
  }
 ],
 "metadata": {
  "kernelspec": {
   "display_name": "Python 3 (ipykernel)",
   "language": "python",
   "name": "python3"
  },
  "language_info": {
   "codemirror_mode": {
    "name": "ipython",
    "version": 3
   },
   "file_extension": ".py",
   "mimetype": "text/x-python",
   "name": "python",
   "nbconvert_exporter": "python",
   "pygments_lexer": "ipython3",
   "version": "3.10.12"
  }
 },
 "nbformat": 4,
 "nbformat_minor": 5
}
